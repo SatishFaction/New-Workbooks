{
 "cells": [
  {
   "cell_type": "code",
   "execution_count": 2,
   "metadata": {},
   "outputs": [],
   "source": [
    "import pandas as pd\n",
    "import numpy as np\n",
    "import matplotlib.pyplot as plt"
   ]
  },
  {
   "cell_type": "code",
   "execution_count": 7,
   "metadata": {},
   "outputs": [
    {
     "data": {
      "text/plain": [
       "Index([u'Age', u'Attrition', u'BusinessTravel', u'DailyRate', u'Department',\n",
       "       u'DistanceFromHome', u'Education', u'EducationField', u'EmployeeCount',\n",
       "       u'EmployeeNumber', u'EnvironmentSatisfaction', u'Gender', u'HourlyRate',\n",
       "       u'JobInvolvement', u'JobLevel', u'JobRole', u'JobSatisfaction',\n",
       "       u'MaritalStatus', u'MonthlyIncome', u'MonthlyRate',\n",
       "       u'NumCompaniesWorked', u'Over18', u'OverTime', u'PercentSalaryHike',\n",
       "       u'PerformanceRating', u'RelationshipSatisfaction', u'StandardHours',\n",
       "       u'StockOptionLevel', u'TotalWorkingYears', u'TrainingTimesLastYear',\n",
       "       u'WorkLifeBalance', u'YearsAtCompany', u'YearsInCurrentRole',\n",
       "       u'YearsSinceLastPromotion', u'YearsWithCurrManager'],\n",
       "      dtype='object')"
      ]
     },
     "execution_count": 7,
     "metadata": {},
     "output_type": "execute_result"
    }
   ],
   "source": [
    "I=pd.read_csv('IBM.csv')\n",
    "I.columns"
   ]
  },
  {
   "cell_type": "code",
   "execution_count": 4,
   "metadata": {},
   "outputs": [],
   "source": [
    "#I.plot(kind=\"scatter\",x=\"Age\",y=\"MonthlyIncome\",color=\"black\",figsize=(8,8))\n",
    "#plt.xlabel(\"Age\",fontsize=12)\n",
    "#plt.ylabel(\"Monthly Income\",fontsize=12)\n",
    "#plt.title(\"scatter plot\",fontsize=12)\n",
    "#plt.show()"
   ]
  },
  {
   "cell_type": "code",
   "execution_count": 10,
   "metadata": {},
   "outputs": [
    {
     "data": {
      "text/plain": [
       "2.0"
      ]
     },
     "execution_count": 10,
     "metadata": {},
     "output_type": "execute_result"
    }
   ],
   "source": [
    "I.NumCompaniesWorked.median()"
   ]
  },
  {
   "cell_type": "code",
   "execution_count": 13,
   "metadata": {},
   "outputs": [
    {
     "data": {
      "text/plain": [
       "count    1470.000000\n",
       "mean       11.279592\n",
       "std         7.780782\n",
       "min         0.000000\n",
       "25%         6.000000\n",
       "50%        10.000000\n",
       "75%        15.000000\n",
       "max        40.000000\n",
       "Name: TotalWorkingYears, dtype: float64"
      ]
     },
     "execution_count": 13,
     "metadata": {},
     "output_type": "execute_result"
    }
   ],
   "source": [
    "I.TotalWorkingYears.describe()"
   ]
  },
  {
   "cell_type": "code",
   "execution_count": 14,
   "metadata": {},
   "outputs": [
    {
     "data": {
      "text/plain": [
       "0    10\n",
       "dtype: int64"
      ]
     },
     "execution_count": 14,
     "metadata": {},
     "output_type": "execute_result"
    }
   ],
   "source": [
    "I.TotalWorkingYears.mode()"
   ]
  }
 ],
 "metadata": {
  "kernelspec": {
   "display_name": "Python 2",
   "language": "python",
   "name": "python2"
  },
  "language_info": {
   "codemirror_mode": {
    "name": "ipython",
    "version": 2
   },
   "file_extension": ".py",
   "mimetype": "text/x-python",
   "name": "python",
   "nbconvert_exporter": "python",
   "pygments_lexer": "ipython2",
   "version": "2.7.16"
  }
 },
 "nbformat": 4,
 "nbformat_minor": 2
}
